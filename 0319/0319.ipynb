{
 "cells": [
  {
   "cell_type": "markdown",
   "metadata": {},
   "source": [
    "#作業一"
   ]
  },
  {
   "cell_type": "code",
   "execution_count": 2,
   "metadata": {},
   "outputs": [
    {
     "name": "stdout",
     "output_type": "stream",
     "text": [
      "222211111\n"
     ]
    },
    {
     "data": {
      "text/plain": [
       "True"
      ]
     },
     "execution_count": 2,
     "metadata": {},
     "output_type": "execute_result"
    }
   ],
   "source": [
    "a=input()\n",
    "not(len(a)==len(set(a)))"
   ]
  },
  {
   "cell_type": "markdown",
   "metadata": {},
   "source": [
    "#作業二"
   ]
  },
  {
   "cell_type": "code",
   "execution_count": 20,
   "metadata": {},
   "outputs": [
    {
     "name": "stdout",
     "output_type": "stream",
     "text": [
      "猜猜數字?222211111\n",
      "猜錯了\n",
      "猜猜數字?8\n",
      "你猜對了\n"
     ]
    }
   ],
   "source": [
    "while True:\n",
    "    number=int(input(\"猜猜數字?\"))\n",
    "    if number==8:\n",
    "        print(\"你猜對了\")\n",
    "        break\n",
    "    else:\n",
    "        print(\"猜錯了\")"
   ]
  },
  {
   "cell_type": "markdown",
   "metadata": {},
   "source": [
    "#作業三"
   ]
  },
  {
   "cell_type": "code",
   "execution_count": 21,
   "metadata": {},
   "outputs": [
    {
     "name": "stdout",
     "output_type": "stream",
     "text": [
      "1 X 1 = 1\n",
      "1 X 2 = 2\n",
      "1 X 3 = 3\n",
      "1 X 4 = 4\n",
      "1 X 5 = 5\n",
      "1 X 6 = 6\n",
      "1 X 7 = 7\n",
      "1 X 8 = 8\n",
      "1 X 9 = 9\n",
      "2 X 1 = 2\n",
      "2 X 2 = 4\n",
      "2 X 3 = 6\n",
      "2 X 4 = 8\n",
      "2 X 5 = 10\n",
      "2 X 6 = 12\n",
      "2 X 7 = 14\n",
      "2 X 8 = 16\n",
      "2 X 9 = 18\n",
      "3 X 1 = 3\n",
      "3 X 2 = 6\n",
      "3 X 3 = 9\n",
      "3 X 4 = 12\n",
      "3 X 5 = 15\n",
      "3 X 6 = 18\n",
      "3 X 7 = 21\n",
      "3 X 8 = 24\n",
      "3 X 9 = 27\n",
      "4 X 1 = 4\n",
      "4 X 2 = 8\n",
      "4 X 3 = 12\n",
      "4 X 4 = 16\n",
      "4 X 5 = 20\n",
      "4 X 6 = 24\n",
      "4 X 7 = 28\n",
      "4 X 8 = 32\n",
      "4 X 9 = 36\n",
      "5 X 1 = 5\n",
      "5 X 2 = 10\n",
      "5 X 3 = 15\n",
      "5 X 4 = 20\n",
      "5 X 5 = 25\n",
      "5 X 6 = 30\n",
      "5 X 7 = 35\n",
      "5 X 8 = 40\n",
      "5 X 9 = 45\n",
      "6 X 1 = 6\n",
      "6 X 2 = 12\n",
      "6 X 3 = 18\n",
      "6 X 4 = 24\n",
      "6 X 5 = 30\n",
      "6 X 6 = 36\n",
      "6 X 7 = 42\n",
      "6 X 8 = 48\n",
      "6 X 9 = 54\n",
      "7 X 1 = 7\n",
      "7 X 2 = 14\n",
      "7 X 3 = 21\n",
      "7 X 4 = 28\n",
      "7 X 5 = 35\n",
      "7 X 6 = 42\n",
      "7 X 7 = 49\n",
      "7 X 8 = 56\n",
      "7 X 9 = 63\n",
      "8 X 1 = 8\n",
      "8 X 2 = 16\n",
      "8 X 3 = 24\n",
      "8 X 4 = 32\n",
      "8 X 5 = 40\n",
      "8 X 6 = 48\n",
      "8 X 7 = 56\n",
      "8 X 8 = 64\n",
      "8 X 9 = 72\n",
      "9 X 1 = 9\n",
      "9 X 2 = 18\n",
      "9 X 3 = 27\n",
      "9 X 4 = 36\n",
      "9 X 5 = 45\n",
      "9 X 6 = 54\n",
      "9 X 7 = 63\n",
      "9 X 8 = 72\n",
      "9 X 9 = 81\n"
     ]
    }
   ],
   "source": [
    "for x in range(1,10):\n",
    "    for y in range(1,10):\n",
    "        print(x,'X',y,'=',x*y)"
   ]
  },
  {
   "cell_type": "markdown",
   "metadata": {},
   "source": [
    "#作業四"
   ]
  },
  {
   "cell_type": "code",
   "execution_count": 22,
   "metadata": {},
   "outputs": [],
   "source": [
    "a_list = [ ]\n",
    "for number in range(1,6):\n",
    "    if number % 2 == 1:\n",
    "        a_list.append(number)"
   ]
  },
  {
   "cell_type": "code",
   "execution_count": 23,
   "metadata": {},
   "outputs": [
    {
     "data": {
      "text/plain": [
       "[1, 3, 5]"
      ]
     },
     "execution_count": 23,
     "metadata": {},
     "output_type": "execute_result"
    }
   ],
   "source": [
    "a_list"
   ]
  },
  {
   "cell_type": "markdown",
   "metadata": {},
   "source": [
    "#作業五"
   ]
  },
  {
   "cell_type": "code",
   "execution_count": 3,
   "metadata": {},
   "outputs": [
    {
     "data": {
      "text/plain": [
       "[(1, 'X', 1, '=', 1),\n",
       " (1, 'X', 2, '=', 2),\n",
       " (1, 'X', 3, '=', 3),\n",
       " (1, 'X', 4, '=', 4),\n",
       " (1, 'X', 5, '=', 5),\n",
       " (1, 'X', 6, '=', 6),\n",
       " (1, 'X', 7, '=', 7),\n",
       " (1, 'X', 8, '=', 8),\n",
       " (1, 'X', 9, '=', 9),\n",
       " (2, 'X', 1, '=', 2),\n",
       " (2, 'X', 2, '=', 4),\n",
       " (2, 'X', 3, '=', 6),\n",
       " (2, 'X', 4, '=', 8),\n",
       " (2, 'X', 5, '=', 10),\n",
       " (2, 'X', 6, '=', 12),\n",
       " (2, 'X', 7, '=', 14),\n",
       " (2, 'X', 8, '=', 16),\n",
       " (2, 'X', 9, '=', 18),\n",
       " (3, 'X', 1, '=', 3),\n",
       " (3, 'X', 2, '=', 6),\n",
       " (3, 'X', 3, '=', 9),\n",
       " (3, 'X', 4, '=', 12),\n",
       " (3, 'X', 5, '=', 15),\n",
       " (3, 'X', 6, '=', 18),\n",
       " (3, 'X', 7, '=', 21),\n",
       " (3, 'X', 8, '=', 24),\n",
       " (3, 'X', 9, '=', 27),\n",
       " (4, 'X', 1, '=', 4),\n",
       " (4, 'X', 2, '=', 8),\n",
       " (4, 'X', 3, '=', 12),\n",
       " (4, 'X', 4, '=', 16),\n",
       " (4, 'X', 5, '=', 20),\n",
       " (4, 'X', 6, '=', 24),\n",
       " (4, 'X', 7, '=', 28),\n",
       " (4, 'X', 8, '=', 32),\n",
       " (4, 'X', 9, '=', 36),\n",
       " (5, 'X', 1, '=', 5),\n",
       " (5, 'X', 2, '=', 10),\n",
       " (5, 'X', 3, '=', 15),\n",
       " (5, 'X', 4, '=', 20),\n",
       " (5, 'X', 5, '=', 25),\n",
       " (5, 'X', 6, '=', 30),\n",
       " (5, 'X', 7, '=', 35),\n",
       " (5, 'X', 8, '=', 40),\n",
       " (5, 'X', 9, '=', 45),\n",
       " (6, 'X', 1, '=', 6),\n",
       " (6, 'X', 2, '=', 12),\n",
       " (6, 'X', 3, '=', 18),\n",
       " (6, 'X', 4, '=', 24),\n",
       " (6, 'X', 5, '=', 30),\n",
       " (6, 'X', 6, '=', 36),\n",
       " (6, 'X', 7, '=', 42),\n",
       " (6, 'X', 8, '=', 48),\n",
       " (6, 'X', 9, '=', 54),\n",
       " (7, 'X', 1, '=', 7),\n",
       " (7, 'X', 2, '=', 14),\n",
       " (7, 'X', 3, '=', 21),\n",
       " (7, 'X', 4, '=', 28),\n",
       " (7, 'X', 5, '=', 35),\n",
       " (7, 'X', 6, '=', 42),\n",
       " (7, 'X', 7, '=', 49),\n",
       " (7, 'X', 8, '=', 56),\n",
       " (7, 'X', 9, '=', 63),\n",
       " (8, 'X', 1, '=', 8),\n",
       " (8, 'X', 2, '=', 16),\n",
       " (8, 'X', 3, '=', 24),\n",
       " (8, 'X', 4, '=', 32),\n",
       " (8, 'X', 5, '=', 40),\n",
       " (8, 'X', 6, '=', 48),\n",
       " (8, 'X', 7, '=', 56),\n",
       " (8, 'X', 8, '=', 64),\n",
       " (8, 'X', 9, '=', 72),\n",
       " (9, 'X', 1, '=', 9),\n",
       " (9, 'X', 2, '=', 18),\n",
       " (9, 'X', 3, '=', 27),\n",
       " (9, 'X', 4, '=', 36),\n",
       " (9, 'X', 5, '=', 45),\n",
       " (9, 'X', 6, '=', 54),\n",
       " (9, 'X', 7, '=', 63),\n",
       " (9, 'X', 8, '=', 72),\n",
       " (9, 'X', 9, '=', 81)]"
      ]
     },
     "execution_count": 3,
     "metadata": {},
     "output_type": "execute_result"
    }
   ],
   "source": [
    "times=[(i,'X',j,'=',i*j)for i in range(1,10) for j in range(1,10)]\n",
    "times"
   ]
  },
  {
   "cell_type": "markdown",
   "metadata": {},
   "source": [
    "#作業六"
   ]
  },
  {
   "cell_type": "code",
   "execution_count": 24,
   "metadata": {},
   "outputs": [],
   "source": [
    "def iron_man_def(iron_man_color):\n",
    "    if iron_man_color == \"紅色\":\n",
    "        return (\"鋼鐵⼈盔甲是紅⾊的\")\n",
    "    elif iron_man_color == \"綠色\":\n",
    "        return (\"鐵人其實也可以參考浩克的顏⾊\")\n",
    "    elif iron_man_color == \"藍色\":\n",
    "        return (\"鋼鐵人變成藍色小精靈也不錯\")\n",
    "    else:\n",
    "        return (\"好像沒這種顏⾊\",iron_man_color)"
   ]
  },
  {
   "cell_type": "code",
   "execution_count": 25,
   "metadata": {},
   "outputs": [
    {
     "data": {
      "text/plain": [
       "('好像沒這種顏⾊', 'XX')"
      ]
     },
     "execution_count": 25,
     "metadata": {},
     "output_type": "execute_result"
    }
   ],
   "source": [
    "iron_man_def(\"XX\")"
   ]
  },
  {
   "cell_type": "code",
   "execution_count": 26,
   "metadata": {},
   "outputs": [
    {
     "data": {
      "text/plain": [
       "'鋼鐵⼈盔甲是紅⾊的'"
      ]
     },
     "execution_count": 26,
     "metadata": {},
     "output_type": "execute_result"
    }
   ],
   "source": [
    "iron_man_def(\"紅色\")"
   ]
  },
  {
   "cell_type": "markdown",
   "metadata": {},
   "source": [
    "#作業七"
   ]
  },
  {
   "cell_type": "code",
   "execution_count": 27,
   "metadata": {},
   "outputs": [],
   "source": [
    "def compete_sum(a1,a2):\n",
    "    return a1+a2\n",
    "def compete_minus(a1,a2):\n",
    "    return a1-a2\n",
    "def compete_times(a1,a2):\n",
    "    return a1*a2\n",
    "def compete_divide(a1,a2):\n",
    "    return a1/a2"
   ]
  },
  {
   "cell_type": "code",
   "execution_count": 28,
   "metadata": {},
   "outputs": [
    {
     "name": "stdout",
     "output_type": "stream",
     "text": [
      "請輸入你要計算的數字\n",
      "5\n",
      "3\n",
      "請輸入符號(+-*/  +\n",
      "8\n"
     ]
    }
   ],
   "source": [
    "print(\"請輸入你要計算的數字\")\n",
    "a=int(input())\n",
    "b=int(input())\n",
    "count=input(\"請輸入符號(+-*/  \")\n",
    "if count == \"+\" :\n",
    "    print(compete_sum(a,b))\n",
    "elif count == \"-\" :\n",
    "    print(compete_minus(a,b))\n",
    "elif count == \"*\" :\n",
    "    print(compete_times(a,b))\n",
    "elif count == \"/\" :\n",
    "    print(compete_divide(a,b))\n",
    "else :\n",
    "    print(\"輸入錯誤\")"
   ]
  }
 ],
 "metadata": {
  "kernelspec": {
   "display_name": "Python 3",
   "language": "python",
   "name": "python3"
  },
  "language_info": {
   "codemirror_mode": {
    "name": "ipython",
    "version": 3
   },
   "file_extension": ".py",
   "mimetype": "text/x-python",
   "name": "python",
   "nbconvert_exporter": "python",
   "pygments_lexer": "ipython3",
   "version": "3.6.4"
  }
 },
 "nbformat": 4,
 "nbformat_minor": 2
}
