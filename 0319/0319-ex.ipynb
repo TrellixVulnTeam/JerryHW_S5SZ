{
 "cells": [
  {
   "cell_type": "code",
   "execution_count": 1,
   "metadata": {},
   "outputs": [],
   "source": [
    "class_ntust = {\n",
    " \"member1\" : \"甘道夫\",\n",
    " \"member2\" : \"亞拉岡\",\n",
    " \"member3\" : \"索倫\"\n",
    " }"
   ]
  },
  {
   "cell_type": "code",
   "execution_count": 2,
   "metadata": {},
   "outputs": [
    {
     "data": {
      "text/plain": [
       "{'member1': '甘道夫', 'member2': '亞拉岡', 'member3': '索倫'}"
      ]
     },
     "execution_count": 2,
     "metadata": {},
     "output_type": "execute_result"
    }
   ],
   "source": [
    "class_ntust"
   ]
  },
  {
   "cell_type": "code",
   "execution_count": 3,
   "metadata": {},
   "outputs": [],
   "source": [
    "class_ntust2 = {\n",
    " \"member4\" : \"⾦金金鋼狼\",\n",
    " \"member5\" : \"暴暴風女\",\n",
    " \"member6\" : \"X教授\",\n",
    " }"
   ]
  },
  {
   "cell_type": "code",
   "execution_count": 4,
   "metadata": {},
   "outputs": [],
   "source": [
    "class_ntust.update(class_ntust2)"
   ]
  },
  {
   "cell_type": "code",
   "execution_count": 5,
   "metadata": {},
   "outputs": [
    {
     "data": {
      "text/plain": [
       "{'member1': '甘道夫',\n",
       " 'member2': '亞拉岡',\n",
       " 'member3': '索倫',\n",
       " 'member4': '⾦金金鋼狼',\n",
       " 'member5': '暴暴風女',\n",
       " 'member6': 'X教授'}"
      ]
     },
     "execution_count": 5,
     "metadata": {},
     "output_type": "execute_result"
    }
   ],
   "source": [
    "class_ntust"
   ]
  },
  {
   "cell_type": "code",
   "execution_count": 6,
   "metadata": {},
   "outputs": [],
   "source": [
    "drinks = {\n",
    "\"item1\" : {\"珍珠奶茶\",\"紅茶\"},\n",
    "\"item2\" : {\"烏龍奶茶\",\"烏龍茶\"},\n",
    "\"item3\" : {\"蜂蜜紅茶\",\"紅茶\"},\n",
    "}"
   ]
  },
  {
   "cell_type": "code",
   "execution_count": 7,
   "metadata": {},
   "outputs": [
    {
     "data": {
      "text/plain": [
       "dict"
      ]
     },
     "execution_count": 7,
     "metadata": {},
     "output_type": "execute_result"
    }
   ],
   "source": [
    "type(drinks)"
   ]
  },
  {
   "cell_type": "code",
   "execution_count": 8,
   "metadata": {},
   "outputs": [
    {
     "data": {
      "text/plain": [
       "set"
      ]
     },
     "execution_count": 8,
     "metadata": {},
     "output_type": "execute_result"
    }
   ],
   "source": [
    "type({\"珍珠奶茶\",\"紅茶\"})"
   ]
  },
  {
   "cell_type": "code",
   "execution_count": 11,
   "metadata": {},
   "outputs": [],
   "source": [
    "day = ['1號', '2號', '3號']\n",
    "week = ['週⼀', '週⼆', '週三', '週四', '週五']\n",
    "month = ['1⽉', '2⽉', '3⽉']\n",
    "dict_of_lists = {'day':day, 'week':week, 'month':month}"
   ]
  },
  {
   "cell_type": "code",
   "execution_count": 12,
   "metadata": {},
   "outputs": [
    {
     "data": {
      "text/plain": [
       "{'day': ['1號', '2號', '3號'],\n",
       " 'month': ['1⽉', '2⽉', '3⽉'],\n",
       " 'week': ['週⼀', '週⼆', '週三', '週四', '週五']}"
      ]
     },
     "execution_count": 12,
     "metadata": {},
     "output_type": "execute_result"
    }
   ],
   "source": [
    "dict_of_lists"
   ]
  },
  {
   "cell_type": "code",
   "execution_count": 13,
   "metadata": {},
   "outputs": [],
   "source": [
    "iron_man_color = \"XX\""
   ]
  },
  {
   "cell_type": "code",
   "execution_count": 15,
   "metadata": {},
   "outputs": [
    {
     "name": "stdout",
     "output_type": "stream",
     "text": [
      "好像沒這種顏⾊ XX\n"
     ]
    }
   ],
   "source": [
    "if iron_man_color == \"紅色\":\n",
    "    print(\"鋼鐵⼈盔甲是紅⾊的\")\n",
    "elif iron_man_color == \"綠色\":\n",
    "    print(\"鋼鐵人其實也可以參考浩克的顏⾊\")\n",
    "elif iron_man_color == \"藍色\":\n",
    "    print(\"鋼鐵人變成藍色小精靈也不錯\")\n",
    "else:\n",
    "    print(\"好像沒這種顏⾊\",iron_man_color)"
   ]
  },
  {
   "cell_type": "code",
   "execution_count": null,
   "metadata": {},
   "outputs": [],
   "source": [
    "def run_with_args(func, *args):\n",
    "    return func(*args)\n",
    "    "
   ]
  },
  {
   "cell_type": "code",
   "execution_count": null,
   "metadata": {},
   "outputs": [],
   "source": []
  },
  {
   "cell_type": "code",
   "execution_count": null,
   "metadata": {},
   "outputs": [],
   "source": []
  },
  {
   "cell_type": "code",
   "execution_count": null,
   "metadata": {},
   "outputs": [],
   "source": []
  }
 ],
 "metadata": {
  "kernelspec": {
   "display_name": "Python 3",
   "language": "python",
   "name": "python3"
  },
  "language_info": {
   "codemirror_mode": {
    "name": "ipython",
    "version": 3
   },
   "file_extension": ".py",
   "mimetype": "text/x-python",
   "name": "python",
   "nbconvert_exporter": "python",
   "pygments_lexer": "ipython3",
   "version": "3.6.4"
  }
 },
 "nbformat": 4,
 "nbformat_minor": 2
}
