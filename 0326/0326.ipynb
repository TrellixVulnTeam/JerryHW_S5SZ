{
 "cells": [
  {
   "cell_type": "markdown",
   "metadata": {},
   "source": [
    "#homework1"
   ]
  },
  {
   "cell_type": "code",
   "execution_count": 1,
   "metadata": {},
   "outputs": [
    {
     "name": "stdout",
     "output_type": "stream",
     "text": [
      "1\n"
     ]
    },
    {
     "data": {
      "text/plain": [
       "[101]"
      ]
     },
     "execution_count": 1,
     "metadata": {},
     "output_type": "execute_result"
    }
   ],
   "source": [
    "x=int(input())\n",
    "y=list()\n",
    "y.append(x)\n",
    "list(map(lambda a:a+100,y))"
   ]
  },
  {
   "cell_type": "markdown",
   "metadata": {},
   "source": [
    "#homework2"
   ]
  },
  {
   "cell_type": "code",
   "execution_count": 2,
   "metadata": {},
   "outputs": [],
   "source": [
    "def add_ints(func):\n",
    "    def new_function(args, kwargs):\n",
    "        result = func(args, kwargs)\n",
    "        print('add_ints:',result)\n",
    "        return ('multiply ',args*kwargs)\n",
    "    return new_function"
   ]
  },
  {
   "cell_type": "code",
   "execution_count": 3,
   "metadata": {},
   "outputs": [],
   "source": [
    "@add_ints\n",
    "def add_ints(a,b):\n",
    "    return (a+b)"
   ]
  },
  {
   "cell_type": "code",
   "execution_count": 4,
   "metadata": {},
   "outputs": [
    {
     "name": "stdout",
     "output_type": "stream",
     "text": [
      "add_ints: 12\n"
     ]
    },
    {
     "data": {
      "text/plain": [
       "('multiply ', 20)"
      ]
     },
     "execution_count": 4,
     "metadata": {},
     "output_type": "execute_result"
    }
   ],
   "source": [
    "add_ints(2,10)"
   ]
  },
  {
   "cell_type": "markdown",
   "metadata": {},
   "source": [
    "#homework3"
   ]
  },
  {
   "cell_type": "code",
   "execution_count": 5,
   "metadata": {},
   "outputs": [
    {
     "name": "stdout",
     "output_type": "stream",
     "text": [
      "2\n",
      "2\n"
     ]
    }
   ],
   "source": [
    "try:\n",
    "    x=int(input())\n",
    "    print(x)   \n",
    "except:\n",
    "    print ('出錯，請重新輸入')"
   ]
  },
  {
   "cell_type": "markdown",
   "metadata": {},
   "source": [
    "#homework4"
   ]
  },
  {
   "cell_type": "code",
   "execution_count": 6,
   "metadata": {},
   "outputs": [],
   "source": [
    "from source.calculate import *"
   ]
  },
  {
   "cell_type": "code",
   "execution_count": 7,
   "metadata": {},
   "outputs": [
    {
     "name": "stdout",
     "output_type": "stream",
     "text": [
      "請輸入你要計算的數字\n",
      "2\n",
      "3\n",
      "請輸入符號(+-*/  *\n",
      "6\n"
     ]
    }
   ],
   "source": [
    "try:\n",
    "    print(\"請輸入你要計算的數字\")\n",
    "    a=int(input())\n",
    "    b=int(input())\n",
    "    count=input(\"請輸入符號(+-*/  \")\n",
    "    if count == \"+\" :\n",
    "        print(compete_sum(a,b))\n",
    "    elif count == \"-\" :\n",
    "        print(compete_minus(a,b))\n",
    "    elif count == \"*\" :\n",
    "        print(compete_times(a,b))\n",
    "    elif count == \"/\" :\n",
    "        print(compete_divide(a,b))\n",
    "    else :\n",
    "        print(\"輸入錯誤\")\n",
    "except:\n",
    "    print(\"輸入錯誤\")"
   ]
  },
  {
   "cell_type": "code",
   "execution_count": null,
   "metadata": {},
   "outputs": [],
   "source": []
  }
 ],
 "metadata": {
  "kernelspec": {
   "display_name": "Python 3",
   "language": "python",
   "name": "python3"
  },
  "language_info": {
   "codemirror_mode": {
    "name": "ipython",
    "version": 3
   },
   "file_extension": ".py",
   "mimetype": "text/x-python",
   "name": "python",
   "nbconvert_exporter": "python",
   "pygments_lexer": "ipython3",
   "version": "3.6.4"
  }
 },
 "nbformat": 4,
 "nbformat_minor": 2
}
